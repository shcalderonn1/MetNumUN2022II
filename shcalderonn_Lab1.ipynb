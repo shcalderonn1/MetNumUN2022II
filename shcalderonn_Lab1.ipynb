{
  "cells": [
    {
      "cell_type": "markdown",
      "metadata": {
        "id": "view-in-github",
        "colab_type": "text"
      },
      "source": [
        "<a href=\"https://colab.research.google.com/github/shcalderonn1/MetNumUN2022II/blob/main/shcalderonn_Lab1.ipynb\" target=\"_parent\"><img src=\"https://colab.research.google.com/assets/colab-badge.svg\" alt=\"Open In Colab\"/></a>"
      ]
    },
    {
      "cell_type": "markdown",
      "metadata": {
        "id": "0-XKslvkt8-Z"
      },
      "source": [
        "***My own example***"
      ]
    },
    {
      "cell_type": "code",
      "execution_count": null,
      "metadata": {
        "id": "Yo5Iw6DhcRWs"
      },
      "outputs": [],
      "source": [
        "#métodos numéricos\n",
        "#esta linea es para texto"
      ]
    },
    {
      "cell_type": "markdown",
      "source": [
        "## ***Operaciones y Variables***"
      ],
      "metadata": {
        "id": "d9Rh6lxG80Tx"
      }
    },
    {
      "cell_type": "code",
      "execution_count": null,
      "metadata": {
        "colab": {
          "base_uri": "https://localhost:8080/"
        },
        "id": "JuvuXGfNtq6I",
        "outputId": "3718db34-3ce0-4076-88bf-f222b758df23"
      },
      "outputs": [
        {
          "data": {
            "text/plain": [
              "56678"
            ]
          },
          "execution_count": 1,
          "metadata": {},
          "output_type": "execute_result"
        }
      ],
      "source": [
        "12+ 56666"
      ]
    },
    {
      "cell_type": "code",
      "execution_count": null,
      "metadata": {
        "colab": {
          "base_uri": "https://localhost:8080/"
        },
        "id": "6m6LzuZUt3gJ",
        "outputId": "06bbd665-d64b-4094-de4c-df07e0cc6eaf"
      },
      "outputs": [
        {
          "output_type": "stream",
          "name": "stdout",
          "text": [
            "5812\n"
          ]
        }
      ],
      "source": [
        "X=134\n",
        "Y=5678\n",
        "print(X+Y)"
      ]
    },
    {
      "cell_type": "code",
      "execution_count": null,
      "metadata": {
        "colab": {
          "base_uri": "https://localhost:8080/"
        },
        "id": "HRJJ2T1AuSOp",
        "outputId": "0a7c15db-c191-4378-e8de-14c410219919"
      },
      "outputs": [
        {
          "name": "stdout",
          "output_type": "stream",
          "text": [
            "5812\n",
            "571\n"
          ]
        },
        {
          "data": {
            "text/plain": [
              "101"
            ]
          },
          "execution_count": 87,
          "metadata": {},
          "output_type": "execute_result"
        }
      ],
      "source": [
        "print(X+Y)\n",
        "print(4+567)\n",
        "3+98\n"
      ]
    },
    {
      "cell_type": "code",
      "execution_count": null,
      "metadata": {
        "colab": {
          "base_uri": "https://localhost:8080/"
        },
        "id": "MTZHVnEulRLQ",
        "outputId": "e1755444-e909-4f8d-fb09-fa16fe75661b"
      },
      "outputs": [
        {
          "output_type": "stream",
          "name": "stdout",
          "text": [
            "La suma de 134 y 5678 es 5812\n",
            "La resta de 134 y 5678 es -5544\n",
            "La multiplicación de 134 y 5678 es 760852\n",
            "La division entre 134 y 5678 es 0.023599859105318775\n",
            "La potencia de 134 y 2 es  17956\n",
            "El residuo de la division entre 134 y 5678 es 134\n"
          ]
        }
      ],
      "source": [
        "print( 'La suma de',  X  , 'y', Y, 'es', X+Y)\n",
        "print('La resta de', X, 'y', Y, 'es' , X-Y)\n",
        "print('La multiplicación de', X, 'y', Y, 'es' ,X*Y)\n",
        "print('La division entre', X, 'y', Y, 'es' ,X/Y)\n",
        "print('La potencia de', X, 'y 2 es ',X**2)\n",
        "print('El residuo de la division entre', X, 'y', Y, 'es' ,X%Y)"
      ]
    },
    {
      "cell_type": "code",
      "source": [
        ""
      ],
      "metadata": {
        "id": "U2Aw0mX2IVwW"
      },
      "execution_count": null,
      "outputs": []
    },
    {
      "cell_type": "code",
      "execution_count": null,
      "metadata": {
        "colab": {
          "base_uri": "https://localhost:8080/"
        },
        "id": "7-DDbcaKm1XV",
        "outputId": "b9e9e88b-f19a-4a7b-d8f8-3306a42765c3"
      },
      "outputs": [
        {
          "name": "stdout",
          "output_type": "stream",
          "text": [
            "el número pi es 3.141592653589793\n",
            "el número de Euler es  2.718281828459045\n",
            "el seno del número de Euler es 0.41078129050290885\n"
          ]
        }
      ],
      "source": [
        "import math as ma\n",
        "print('el número pi es',ma.pi)\n",
        "print('el número de Euler es ', ma.e)\n",
        "s=ma.sin(ma.e)\n",
        "print('el seno del número de Euler es',s )"
      ]
    },
    {
      "cell_type": "code",
      "execution_count": null,
      "metadata": {
        "colab": {
          "base_uri": "https://localhost:8080/"
        },
        "id": "Llh4AWgyTku8",
        "outputId": "2a9b3d55-d63d-443a-cac4-8b2e13373b51"
      },
      "outputs": [
        {
          "data": {
            "text/plain": [
              "int"
            ]
          },
          "execution_count": 3,
          "metadata": {},
          "output_type": "execute_result"
        }
      ],
      "source": [
        "type(X)"
      ]
    },
    {
      "cell_type": "code",
      "execution_count": null,
      "metadata": {
        "colab": {
          "base_uri": "https://localhost:8080/"
        },
        "id": "YH6AI48UTo3x",
        "outputId": "9aa46a1f-ca1d-4c7f-ac89-99c536075281"
      },
      "outputs": [
        {
          "data": {
            "text/plain": [
              "str"
            ]
          },
          "execution_count": 4,
          "metadata": {},
          "output_type": "execute_result"
        }
      ],
      "source": [
        "type(\"dog\")"
      ]
    },
    {
      "cell_type": "code",
      "execution_count": null,
      "metadata": {
        "colab": {
          "base_uri": "https://localhost:8080/"
        },
        "id": "hzLfMVxcTxY-",
        "outputId": "cfb21d8f-7f9e-4cfb-bb16-00b7db196e06"
      },
      "outputs": [
        {
          "name": "stdout",
          "output_type": "stream",
          "text": [
            "<class 'tuple'>\n",
            "(1, 2, 2, 3, 45, 6, 78, 'f', 's', 'd', 'g', 't', 4, 5, 6, '3')\n"
          ]
        }
      ],
      "source": [
        "l=(1,2,2,3,45,6,78,\"f\",\"s\",\"d\",\"g\")\n",
        "print(type(l))\n",
        "e=('t',4,5,6,'3')\n",
        "print(l+e)\n"
      ]
    },
    {
      "cell_type": "code",
      "execution_count": null,
      "metadata": {
        "colab": {
          "base_uri": "https://localhost:8080/"
        },
        "id": "flZHiSCeUhen",
        "outputId": "5cdb9270-a7e3-446e-d4fc-12ee3d9bfdc9"
      },
      "outputs": [
        {
          "name": "stdout",
          "output_type": "stream",
          "text": [
            "1\n",
            "r\n",
            "<class 'int'>\n",
            "7\n",
            "[1, 3, 5, 6.6, 'y', 5, 'r']\n",
            "[1, 6.6, 'r']\n",
            "[1, 3, 5, 6.6, 'y', 5, 'r']\n",
            "['r', 'y', 5, 1]\n",
            "range(0, 4)\n"
          ]
        }
      ],
      "source": [
        "r=[1,3,5,6.6,7,5,\"r\"]\n",
        "print(r[0])\n",
        "print(r[-1])\n",
        "print(type(r[0]))\n",
        "print(len(r))\n",
        "r[4]='y'\n",
        "print(r)\n",
        "print(r[::3])\n",
        "print(r[:])\n",
        "print(r[::-2])\n",
        "i=0\n",
        "f=4\n",
        "r=range(i,f)\n",
        "print(r)"
      ]
    },
    {
      "cell_type": "code",
      "execution_count": null,
      "metadata": {
        "colab": {
          "base_uri": "https://localhost:8080/"
        },
        "id": "dwsu_gmQU9Pb",
        "outputId": "b9dc77ba-b153-4b2c-f884-a55b0294ba76"
      },
      "outputs": [
        {
          "data": {
            "text/plain": [
              "list"
            ]
          },
          "execution_count": 10,
          "metadata": {},
          "output_type": "execute_result"
        }
      ],
      "source": [
        "type(r)"
      ]
    },
    {
      "cell_type": "code",
      "execution_count": null,
      "metadata": {
        "colab": {
          "base_uri": "https://localhost:8080/"
        },
        "id": "lvY6Ie_wVA3r",
        "outputId": "233bea60-cb1e-4d8c-a49b-a200df9893df"
      },
      "outputs": [
        {
          "name": "stdout",
          "output_type": "stream",
          "text": [
            "[1, 3, 5, 3, 7, 5, 'r']\n"
          ]
        }
      ],
      "source": [
        "r[3]=3\n",
        "print(r)"
      ]
    },
    {
      "cell_type": "code",
      "execution_count": null,
      "metadata": {
        "colab": {
          "base_uri": "https://localhost:8080/"
        },
        "id": "hym7x2t_pLQ8",
        "outputId": "0c4ed1c8-4068-4598-e0c2-cb6587b6199c"
      },
      "outputs": [
        {
          "name": "stdout",
          "output_type": "stream",
          "text": [
            "{1, 4, 'arbol', 'hola'} <class 'set'>\n",
            "4\n",
            "{1, 4, 'arbol', 'hola'}\n",
            "{'arbol', 'hola'}\n"
          ]
        }
      ],
      "source": [
        "set1={1,'hola','arbol',4}\n",
        "print(set1,type(set1))\n",
        "print(len(set1))\n",
        "'hola' in set1\n",
        "set2={'hola','arbol'}\n",
        "print(set1|set2)\n",
        "print(set1 & set2)"
      ]
    },
    {
      "cell_type": "code",
      "execution_count": null,
      "metadata": {
        "colab": {
          "base_uri": "https://localhost:8080/"
        },
        "id": "A0o5L622qdcF",
        "outputId": "fafb5966-8672-4357-9cb4-465878971081"
      },
      "outputs": [
        {
          "name": "stdout",
          "output_type": "stream",
          "text": [
            "['arbol', 'abeja', 'amor']\n",
            "c\n"
          ]
        }
      ],
      "source": [
        "dict1={'a':[\"arbol\",\"abeja\",\"amor\"],\"b\":[\"bosque\",\"bonito\",\"'balon\"]}\n",
        "print(dict1['a'])\n",
        "dict1[\"b\"]=\"c\"\n",
        "print(dict1[\"b\"])"
      ]
    },
    {
      "cell_type": "code",
      "execution_count": null,
      "metadata": {
        "colab": {
          "base_uri": "https://localhost:8080/"
        },
        "id": "81Lq1Vdks4UE",
        "outputId": "eefb6646-8e3d-4669-db3a-914a66192b2f"
      },
      "outputs": [
        {
          "name": "stdout",
          "output_type": "stream",
          "text": [
            "1° letra: U\n",
            "Ultima letra a\n",
            "Las 5 primeras letras Unive\n",
            "Reversa aibmoloC ed lanoicaN dadisrevinU\n",
            "4\n"
          ]
        }
      ],
      "source": [
        "tx=\"Universidad Nacional de Colombia\"\n",
        "print('1° letra:',tx[0])\n",
        "print('Ultima letra',tx[-1])\n",
        "print('Las 5 primeras letras',tx[0:5])\n",
        "print('Reversa',tx[::-1])\n",
        "print(tx.count('i'))"
      ]
    },
    {
      "cell_type": "code",
      "execution_count": null,
      "metadata": {
        "colab": {
          "base_uri": "https://localhost:8080/"
        },
        "id": "1DnQymtvuaYm",
        "outputId": "b401ff7c-2ea0-4f42-f0a0-c239eb2c37bf"
      },
      "outputs": [
        {
          "name": "stdout",
          "output_type": "stream",
          "text": [
            "True\n"
          ]
        }
      ],
      "source": [
        "print(bool([1,2,3]))"
      ]
    },
    {
      "cell_type": "code",
      "execution_count": null,
      "metadata": {
        "colab": {
          "base_uri": "https://localhost:8080/"
        },
        "id": "tco1iibyujc-",
        "outputId": "aa50aa50-8264-4332-85f6-811ddeb76359"
      },
      "outputs": [
        {
          "name": "stdout",
          "output_type": "stream",
          "text": [
            "False\n",
            "False\n",
            "3208642560\n"
          ]
        }
      ],
      "source": [
        "print(4567==3456)\n",
        "print(234>234)\n",
        "print(765<<22)"
      ]
    },
    {
      "cell_type": "markdown",
      "source": [
        "## ***Funciones ***"
      ],
      "metadata": {
        "id": "oPIMwuSB86U0"
      }
    },
    {
      "cell_type": "code",
      "execution_count": null,
      "metadata": {
        "colab": {
          "base_uri": "https://localhost:8080/"
        },
        "id": "gb9UPfuywFPR",
        "outputId": "24420db3-d315-4b5d-e82d-1913c9731480"
      },
      "outputs": [
        {
          "name": "stdout",
          "output_type": "stream",
          "text": [
            "el número es menor\n"
          ]
        }
      ],
      "source": [
        "i==0\n",
        "if i<10:\n",
        "  i=+1\n",
        "  print('el número es menor')\n",
        "else:\n",
        "  print(' el número es 10')"
      ]
    },
    {
      "cell_type": "code",
      "execution_count": null,
      "metadata": {
        "colab": {
          "base_uri": "https://localhost:8080/"
        },
        "id": "BW6pNZsIxqNt",
        "outputId": "b082e775-27bf-45ff-abf1-fede79b1b8cc"
      },
      "outputs": [
        {
          "name": "stdout",
          "output_type": "stream",
          "text": [
            " el número es 1\n"
          ]
        }
      ],
      "source": [
        "i==0\n",
        "if i==0:\n",
        "  i=+1\n",
        "  print('el número es cero y el siguiente es',i)\n",
        "elif i==1:\n",
        "  print(' el número es 1')"
      ]
    },
    {
      "cell_type": "code",
      "source": [
        "i=1\n",
        "while i <10:\n",
        "  print(i)\n",
        "  i=i+3\n",
        "  if i==3:\n",
        "    print(' Final')"
      ],
      "metadata": {
        "colab": {
          "base_uri": "https://localhost:8080/"
        },
        "id": "EAd9ESHZ0NHN",
        "outputId": "68324e6c-e726-42ef-da01-c173d5ff1706"
      },
      "execution_count": null,
      "outputs": [
        {
          "output_type": "stream",
          "name": "stdout",
          "text": [
            "1\n",
            "4\n",
            "7\n"
          ]
        }
      ]
    },
    {
      "cell_type": "code",
      "source": [
        "l=list()\n",
        "for i in range(10):\n",
        "  l.append(i)\n",
        "  print (l)"
      ],
      "metadata": {
        "colab": {
          "base_uri": "https://localhost:8080/"
        },
        "id": "44RvNt2T1mA3",
        "outputId": "52d8fac6-8db7-4ab8-935f-0666b0d930f6"
      },
      "execution_count": null,
      "outputs": [
        {
          "output_type": "stream",
          "name": "stdout",
          "text": [
            "[0]\n",
            "[0, 1]\n",
            "[0, 1, 2]\n",
            "[0, 1, 2, 3]\n",
            "[0, 1, 2, 3, 4]\n",
            "[0, 1, 2, 3, 4, 5]\n",
            "[0, 1, 2, 3, 4, 5, 6]\n",
            "[0, 1, 2, 3, 4, 5, 6, 7]\n",
            "[0, 1, 2, 3, 4, 5, 6, 7, 8]\n",
            "[0, 1, 2, 3, 4, 5, 6, 7, 8, 9]\n"
          ]
        }
      ]
    },
    {
      "cell_type": "code",
      "source": [
        "def  volumen(e):\n",
        "  \n",
        "  v=e**3\n",
        "  return  v\n",
        "\n",
        "e=6\n",
        "volumen(e)"
      ],
      "metadata": {
        "colab": {
          "base_uri": "https://localhost:8080/"
        },
        "id": "1vSQOEC52MOW",
        "outputId": "298f545e-b76e-4324-9096-92173835a7af"
      },
      "execution_count": null,
      "outputs": [
        {
          "output_type": "execute_result",
          "data": {
            "text/plain": [
              "216"
            ]
          },
          "metadata": {},
          "execution_count": 17
        }
      ]
    },
    {
      "cell_type": "markdown",
      "source": [
        "## ***Librerias***"
      ],
      "metadata": {
        "id": "7tjLMCbc9ZP2"
      }
    },
    {
      "cell_type": "code",
      "execution_count": null,
      "metadata": {
        "id": "zRlWfGfTuaZM"
      },
      "outputs": [],
      "source": [
        "import numpy as np\n",
        "import scipy as sp\n",
        "import pandas  as pn\n",
        "import matplotlib.pyplot as plt\n",
        "import xarray as xa"
      ]
    },
    {
      "cell_type": "code",
      "execution_count": null,
      "metadata": {
        "id": "otYQKZCQvGUy"
      },
      "outputs": [],
      "source": [
        "np?\n",
        "np.random.normal?\n"
      ]
    },
    {
      "cell_type": "code",
      "source": [
        "np.log10(10000)"
      ],
      "metadata": {
        "colab": {
          "base_uri": "https://localhost:8080/"
        },
        "id": "1FXZHMP74W4l",
        "outputId": "1575ec2b-8509-47f9-abec-1c05c6de9fd5"
      },
      "execution_count": null,
      "outputs": [
        {
          "output_type": "execute_result",
          "data": {
            "text/plain": [
              "4.0"
            ]
          },
          "metadata": {},
          "execution_count": 20
        }
      ]
    },
    {
      "cell_type": "markdown",
      "source": [
        "## ***Estadística***"
      ],
      "metadata": {
        "id": "fwByxutm9Em6"
      }
    },
    {
      "cell_type": "code",
      "execution_count": null,
      "metadata": {
        "colab": {
          "base_uri": "https://localhost:8080/"
        },
        "id": "royhcF0AvQxP",
        "outputId": "eb535e20-0529-4dba-de42-03935ab6e069"
      },
      "outputs": [
        {
          "output_type": "stream",
          "name": "stdout",
          "text": [
            "[-100.11424356  -99.88118333  -99.85125448  -99.79443571 -100.19613683\n",
            " -100.05582154 -100.11835075  -99.60150146 -100.03304775 -100.10466423\n",
            "  -99.57104752  -99.88554558  -99.92334427  -99.96405757 -100.43087754\n",
            " -100.20187543 -100.13492671 -100.29109771  -99.7604821   -99.55115387\n",
            "  -99.98702816  -99.88027473 -100.32101202 -100.11436268  -99.65800565\n",
            "  -99.84762074 -100.17014837  -99.81734138  -99.83954366  -99.8567804\n",
            " -100.01115251 -100.07322394  -99.71295032 -100.03583684  -99.80318228\n",
            "  -99.8769283   -99.86178802 -100.36672369  -99.74406258 -100.05530102\n",
            "  -99.99199226 -100.2293266   -99.62492411  -99.86152281 -100.03288702\n",
            " -100.11887524 -100.21081256  -99.74114969  -99.762233    -99.88337211]\n"
          ]
        }
      ],
      "source": [
        "z=np.random.normal(-100,0.2,50)\n",
        "print(z)"
      ]
    },
    {
      "cell_type": "code",
      "source": [
        "np.max(z)"
      ],
      "metadata": {
        "colab": {
          "base_uri": "https://localhost:8080/"
        },
        "id": "8Cc_96m-4hYa",
        "outputId": "958e1ab0-77a1-4a1e-cda8-320c433defdb"
      },
      "execution_count": null,
      "outputs": [
        {
          "output_type": "execute_result",
          "data": {
            "text/plain": [
              "-99.55115387218129"
            ]
          },
          "metadata": {},
          "execution_count": 22
        }
      ]
    },
    {
      "cell_type": "code",
      "source": [
        "q=([3,4,5],[6,7,8],[9,1,1])\n",
        "w=([7,8,3],[5,6,78],[0,0,0])\n",
        "print(np.dot(q,w))\n",
        "print(np.dot(w,q))"
      ],
      "metadata": {
        "colab": {
          "base_uri": "https://localhost:8080/"
        },
        "id": "pk7uV4tB4v9W",
        "outputId": "f279281a-b848-4e19-c7ac-bf59d812a48c"
      },
      "execution_count": null,
      "outputs": [
        {
          "output_type": "stream",
          "name": "stdout",
          "text": [
            "[[ 41  48 321]\n",
            " [ 77  90 564]\n",
            " [ 68  78 105]]\n",
            "[[ 96  87 102]\n",
            " [753 140 151]\n",
            " [  0   0   0]]\n"
          ]
        }
      ]
    },
    {
      "cell_type": "markdown",
      "source": [
        "## ***Gráficos***"
      ],
      "metadata": {
        "id": "kBkguJBf9Kbl"
      }
    },
    {
      "cell_type": "code",
      "execution_count": null,
      "metadata": {
        "colab": {
          "base_uri": "https://localhost:8080/",
          "height": 282
        },
        "id": "1pnqp_3mvh79",
        "outputId": "07199de4-b359-4cb8-d7cc-bd76d2e92428"
      },
      "outputs": [
        {
          "data": {
            "text/plain": [
              "[<matplotlib.lines.Line2D at 0x7fae51037d10>]"
            ]
          },
          "execution_count": 21,
          "metadata": {},
          "output_type": "execute_result"
        },
        {
          "data": {
            "image/png": "[encoded data removed]",
            "text/plain": [
              "<Figure size 432x288 with 1 Axes>"
            ]
          },
          "metadata": {},
          "output_type": "display_data"
        }
      ],
      "source": [
        "plt.plot(z)"
      ]
    },
    {
      "cell_type": "code",
      "execution_count": null,
      "metadata": {
        "colab": {
          "base_uri": "https://localhost:8080/",
          "height": 296
        },
        "id": "7aI1NnPMwzuP",
        "outputId": "51f7f158-5122-4bc8-b33b-c62dd8341b07"
      },
      "outputs": [
        {
          "data": {
            "text/plain": [
              "<matplotlib.legend.Legend at 0x7fae505ba8d0>"
            ]
          },
          "execution_count": 36,
          "metadata": {},
          "output_type": "execute_result"
        },
        {
          "data": {
            "image/png": "[encoded data removed]",
            "text/plain": [
              "<Figure size 432x288 with 1 Axes>"
            ]
          },
          "metadata": {},
          "output_type": "display_data"
        }
      ],
      "source": [
        "a1=np.random.normal(100,1,90)\n",
        "a2=np.random.normal(100,5,100)\n",
        "a3=np.random.normal(100,3,110)\n",
        "plt.plot(a1)\n",
        "plt.plot(a2)\n",
        "plt.plot(a3)\n",
        "plt.xlabel(\"Time in minutes\")\n",
        "plt.ylabel(\"energy\")\n",
        "plt.legend([\"Exp1\",\"Exp2\",\"Exp3\"])"
      ]
    },
    {
      "cell_type": "code",
      "execution_count": null,
      "metadata": {
        "colab": {
          "background_save": true,
          "base_uri": "https://localhost:8080/"
        },
        "id": "nhr813sUxWuf",
        "outputId": "5ce9fb65-ab9f-4973-cfb2-214254ea4766"
      },
      "outputs": [
        {
          "name": "stdout",
          "output_type": "stream",
          "text": [
            "100.06884934161754\n",
            "99.74299294603966\n",
            "100.48942361187991\n"
          ]
        }
      ],
      "source": [
        "np.mean(a1)"
      ]
    },
    {
      "cell_type": "code",
      "execution_count": null,
      "metadata": {
        "id": "3HrL0Bb-3Dcp",
        "colab": {
          "base_uri": "https://localhost:8080/"
        },
        "outputId": "47f06dd9-f7b7-4a54-f286-f203694d986b"
      },
      "outputs": [
        {
          "output_type": "stream",
          "name": "stdout",
          "text": [
            "Looking in indexes: https://pypi.org/simple, https://us-python.pkg.dev/colab-wheels/public/simple/\n",
            "Requirement already satisfied: yfinance in /usr/local/lib/python3.7/dist-packages (0.1.74)\n",
            "Requirement already satisfied: pandas>=0.24.0 in /usr/local/lib/python3.7/dist-packages (from yfinance) (1.3.5)\n",
            "Requirement already satisfied: requests>=2.26 in /usr/local/lib/python3.7/dist-packages (from yfinance) (2.28.1)\n",
            "Requirement already satisfied: numpy>=1.15 in /usr/local/lib/python3.7/dist-packages (from yfinance) (1.21.6)\n",
            "Requirement already satisfied: multitasking>=0.0.7 in /usr/local/lib/python3.7/dist-packages (from yfinance) (0.0.11)\n",
            "Requirement already satisfied: lxml>=4.5.1 in /usr/local/lib/python3.7/dist-packages (from yfinance) (4.9.1)\n",
            "Requirement already satisfied: python-dateutil>=2.7.3 in /usr/local/lib/python3.7/dist-packages (from pandas>=0.24.0->yfinance) (2.8.2)\n",
            "Requirement already satisfied: pytz>=2017.3 in /usr/local/lib/python3.7/dist-packages (from pandas>=0.24.0->yfinance) (2022.2.1)\n",
            "Requirement already satisfied: six>=1.5 in /usr/local/lib/python3.7/dist-packages (from python-dateutil>=2.7.3->pandas>=0.24.0->yfinance) (1.15.0)\n",
            "Requirement already satisfied: charset-normalizer<3,>=2 in /usr/local/lib/python3.7/dist-packages (from requests>=2.26->yfinance) (2.1.0)\n",
            "Requirement already satisfied: urllib3<1.27,>=1.21.1 in /usr/local/lib/python3.7/dist-packages (from requests>=2.26->yfinance) (1.24.3)\n",
            "Requirement already satisfied: certifi>=2017.4.17 in /usr/local/lib/python3.7/dist-packages (from requests>=2.26->yfinance) (2022.6.15)\n",
            "Requirement already satisfied: idna<4,>=2.5 in /usr/local/lib/python3.7/dist-packages (from requests>=2.26->yfinance) (2.10)\n"
          ]
        }
      ],
      "source": [
        "!pip install yfinance\n"
      ]
    },
    {
      "cell_type": "code",
      "source": [
        "import yfinance as yf\n",
        "\n",
        "dt = yf.download(\"MSFT\", start=\"2021-1-1\", end=\"2021-12-31\")"
      ],
      "metadata": {
        "colab": {
          "base_uri": "https://localhost:8080/"
        },
        "id": "Cmob5tMB5wEP",
        "outputId": "b0c08d23-4c4c-42bc-d383-f5186833f0ee"
      },
      "execution_count": null,
      "outputs": [
        {
          "output_type": "stream",
          "name": "stdout",
          "text": [
            "\r[*********************100%***********************]  1 of 1 completed\n"
          ]
        }
      ]
    },
    {
      "cell_type": "code",
      "source": [
        "dt\n"
      ],
      "metadata": {
        "colab": {
          "base_uri": "https://localhost:8080/",
          "height": 655
        },
        "id": "26lMVXcc54eZ",
        "outputId": "92219fd2-dae4-4c4f-b1c3-f914a1d7c140"
      },
      "execution_count": null,
      "outputs": [
        {
          "output_type": "execute_result",
          "data": {
            "text/plain": [
              "                  Open        High         Low       Close   Adj Close  \\\n",
              "Date                                                                     \n",
              "2021-01-04  222.529999  223.000000  214.809998  217.690002  214.479111   \n",
              "2021-01-05  217.259995  218.520004  215.699997  217.899994  214.686005   \n",
              "2021-01-06  212.169998  216.490005  211.940002  212.250000  209.119324   \n",
              "2021-01-07  214.039993  219.339996  213.710007  218.289993  215.070267   \n",
              "2021-01-08  218.679993  220.580002  217.029999  219.619995  216.380630   \n",
              "...                ...         ...         ...         ...         ...   \n",
              "2021-12-23  332.750000  336.390015  332.730011  334.690002  332.517456   \n",
              "2021-12-27  335.459991  342.480011  335.429993  342.450012  340.227112   \n",
              "2021-12-28  343.149994  343.809998  340.320007  341.250000  339.034882   \n",
              "2021-12-29  341.299988  344.299988  339.679993  341.950012  339.730377   \n",
              "2021-12-30  341.910004  343.130005  338.820007  339.320007  337.117432   \n",
              "\n",
              "              Volume  \n",
              "Date                  \n",
              "2021-01-04  37130100  \n",
              "2021-01-05  23823000  \n",
              "2021-01-06  35930700  \n",
              "2021-01-07  27694500  \n",
              "2021-01-08  22956200  \n",
              "...              ...  \n",
              "2021-12-23  19617800  \n",
              "2021-12-27  19947000  \n",
              "2021-12-28  15661500  \n",
              "2021-12-29  15042000  \n",
              "2021-12-30  15994500  \n",
              "\n",
              "[251 rows x 6 columns]"
            ],
            "text/html": [
              "\n",
              "  <div id=\"df-2b5c5e7d-1012-4365-9ca9-11788dc423df\">\n",
              "    <div class=\"colab-df-container\">\n",
              "      <div>\n",
              "<style scoped>\n",
              "    .dataframe tbody tr th:only-of-type {\n",
              "        vertical-align: middle;\n",
              "    }\n",
              "\n",
              "    .dataframe tbody tr th {\n",
              "        vertical-align: top;\n",
              "    }\n",
              "\n",
              "    .dataframe thead th {\n",
              "        text-align: right;\n",
              "    }\n",
              "</style>\n",
              "<table border=\"1\" class=\"dataframe\">\n",
              "  <thead>\n",
              "    <tr style=\"text-align: right;\">\n",
              "      <th></th>\n",
              "      <th>Open</th>\n",
              "      <th>High</th>\n",
              "      <th>Low</th>\n",
              "      <th>Close</th>\n",
              "      <th>Adj Close</th>\n",
              "      <th>Volume</th>\n",
              "    </tr>\n",
              "    <tr>\n",
              "      <th>Date</th>\n",
              "      <th></th>\n",
              "      <th></th>\n",
              "      <th></th>\n",
              "      <th></th>\n",
              "      <th></th>\n",
              "      <th></th>\n",
              "    </tr>\n",
              "  </thead>\n",
              "  <tbody>\n",
              "    <tr>\n",
              "      <th>2021-01-04</th>\n",
              "      <td>222.529999</td>\n",
              "      <td>223.000000</td>\n",
              "      <td>214.809998</td>\n",
              "      <td>217.690002</td>\n",
              "      <td>214.479111</td>\n",
              "      <td>37130100</td>\n",
              "    </tr>\n",
              "    <tr>\n",
              "      <th>2021-01-05</th>\n",
              "      <td>217.259995</td>\n",
              "      <td>218.520004</td>\n",
              "      <td>215.699997</td>\n",
              "      <td>217.899994</td>\n",
              "      <td>214.686005</td>\n",
              "      <td>23823000</td>\n",
              "    </tr>\n",
              "    <tr>\n",
              "      <th>2021-01-06</th>\n",
              "      <td>212.169998</td>\n",
              "      <td>216.490005</td>\n",
              "      <td>211.940002</td>\n",
              "      <td>212.250000</td>\n",
              "      <td>209.119324</td>\n",
              "      <td>35930700</td>\n",
              "    </tr>\n",
              "    <tr>\n",
              "      <th>2021-01-07</th>\n",
              "      <td>214.039993</td>\n",
              "      <td>219.339996</td>\n",
              "      <td>213.710007</td>\n",
              "      <td>218.289993</td>\n",
              "      <td>215.070267</td>\n",
              "      <td>27694500</td>\n",
              "    </tr>\n",
              "    <tr>\n",
              "      <th>2021-01-08</th>\n",
              "      <td>218.679993</td>\n",
              "      <td>220.580002</td>\n",
              "      <td>217.029999</td>\n",
              "      <td>219.619995</td>\n",
              "      <td>216.380630</td>\n",
              "      <td>22956200</td>\n",
              "    </tr>\n",
              "    <tr>\n",
              "      <th>...</th>\n",
              "      <td>...</td>\n",
              "      <td>...</td>\n",
              "      <td>...</td>\n",
              "      <td>...</td>\n",
              "      <td>...</td>\n",
              "      <td>...</td>\n",
              "    </tr>\n",
              "    <tr>\n",
              "      <th>2021-12-23</th>\n",
              "      <td>332.750000</td>\n",
              "      <td>336.390015</td>\n",
              "      <td>332.730011</td>\n",
              "      <td>334.690002</td>\n",
              "      <td>332.517456</td>\n",
              "      <td>19617800</td>\n",
              "    </tr>\n",
              "    <tr>\n",
              "      <th>2021-12-27</th>\n",
              "      <td>335.459991</td>\n",
              "      <td>342.480011</td>\n",
              "      <td>335.429993</td>\n",
              "      <td>342.450012</td>\n",
              "      <td>340.227112</td>\n",
              "      <td>19947000</td>\n",
              "    </tr>\n",
              "    <tr>\n",
              "      <th>2021-12-28</th>\n",
              "      <td>343.149994</td>\n",
              "      <td>343.809998</td>\n",
              "      <td>340.320007</td>\n",
              "      <td>341.250000</td>\n",
              "      <td>339.034882</td>\n",
              "      <td>15661500</td>\n",
              "    </tr>\n",
              "    <tr>\n",
              "      <th>2021-12-29</th>\n",
              "      <td>341.299988</td>\n",
              "      <td>344.299988</td>\n",
              "      <td>339.679993</td>\n",
              "      <td>341.950012</td>\n",
              "      <td>339.730377</td>\n",
              "      <td>15042000</td>\n",
              "    </tr>\n",
              "    <tr>\n",
              "      <th>2021-12-30</th>\n",
              "      <td>341.910004</td>\n",
              "      <td>343.130005</td>\n",
              "      <td>338.820007</td>\n",
              "      <td>339.320007</td>\n",
              "      <td>337.117432</td>\n",
              "      <td>15994500</td>\n",
              "    </tr>\n",
              "  </tbody>\n",
              "</table>\n",
              "<p>251 rows × 6 columns</p>\n",
              "</div>\n",
              "      <button class=\"colab-df-convert\" onclick=\"convertToInteractive('df-2b5c5e7d-1012-4365-9ca9-11788dc423df')\"\n",
              "              title=\"Convert this dataframe to an interactive table.\"\n",
              "              style=\"display:none;\">\n",
              "        \n",
              "  <svg xmlns=\"http://www.w3.org/2000/svg\" height=\"24px\"viewBox=\"0 0 24 24\"\n",
              "       width=\"24px\">\n",
              "    <path d=\"M0 0h24v24H0V0z\" fill=\"none\"/>\n",
              "    <path d=\"M18.56 5.44l.94 2.06.94-2.06 2.06-.94-2.06-.94-.94-2.06-.94 2.06-2.06.94zm-11 1L8.5 8.5l.94-2.06 2.06-.94-2.06-.94L8.5 2.5l-.94 2.06-2.06.94zm10 10l.94 2.06.94-2.06 2.06-.94-2.06-.94-.94-2.06-.94 2.06-2.06.94z\"/><path d=\"M17.41 7.96l-1.37-1.37c-.4-.4-.92-.59-1.43-.59-.52 0-1.04.2-1.43.59L10.3 9.45l-7.72 7.72c-.78.78-.78 2.05 0 2.83L4 21.41c.39.39.9.59 1.41.59.51 0 1.02-.2 1.41-.59l7.78-7.78 2.81-2.81c.8-.78.8-2.07 0-2.86zM5.41 20L4 18.59l7.72-7.72 1.47 1.35L5.41 20z\"/>\n",
              "  </svg>\n",
              "      </button>\n",
              "      \n",
              "  <style>\n",
              "    .colab-df-container {\n",
              "      display:flex;\n",
              "      flex-wrap:wrap;\n",
              "      gap: 12px;\n",
              "    }\n",
              "\n",
              "    .colab-df-convert {\n",
              "      background-color: #E8F0FE;\n",
              "      border: none;\n",
              "      border-radius: 50%;\n",
              "      cursor: pointer;\n",
              "      display: none;\n",
              "      fill: #1967D2;\n",
              "      height: 32px;\n",
              "      padding: 0 0 0 0;\n",
              "      width: 32px;\n",
              "    }\n",
              "\n",
              "    .colab-df-convert:hover {\n",
              "      background-color: #E2EBFA;\n",
              "      box-shadow: 0px 1px 2px rgba(60, 64, 67, 0.3), 0px 1px 3px 1px rgba(60, 64, 67, 0.15);\n",
              "      fill: #174EA6;\n",
              "    }\n",
              "\n",
              "    [theme=dark] .colab-df-convert {\n",
              "      background-color: #3B4455;\n",
              "      fill: #D2E3FC;\n",
              "    }\n",
              "\n",
              "    [theme=dark] .colab-df-convert:hover {\n",
              "      background-color: #434B5C;\n",
              "      box-shadow: 0px 1px 3px 1px rgba(0, 0, 0, 0.15);\n",
              "      filter: drop-shadow(0px 1px 2px rgba(0, 0, 0, 0.3));\n",
              "      fill: #FFFFFF;\n",
              "    }\n",
              "  </style>\n",
              "\n",
              "      <script>\n",
              "        const buttonEl =\n",
              "          document.querySelector('#df-2b5c5e7d-1012-4365-9ca9-11788dc423df button.colab-df-convert');\n",
              "        buttonEl.style.display =\n",
              "          google.colab.kernel.accessAllowed ? 'block' : 'none';\n",
              "\n",
              "        async function convertToInteractive(key) {\n",
              "          const element = document.querySelector('#df-2b5c5e7d-1012-4365-9ca9-11788dc423df');\n",
              "          const dataTable =\n",
              "            await google.colab.kernel.invokeFunction('convertToInteractive',\n",
              "                                                     [key], {});\n",
              "          if (!dataTable) return;\n",
              "\n",
              "          const docLinkHtml = 'Like what you see? Visit the ' +\n",
              "            '<a target=\"_blank\" href=https://colab.research.google.com/notebooks/data_table.ipynb>data table notebook</a>'\n",
              "            + ' to learn more about interactive tables.';\n",
              "          element.innerHTML = '';\n",
              "          dataTable['output_type'] = 'display_data';\n",
              "          await google.colab.output.renderOutput(dataTable, element);\n",
              "          const docLink = document.createElement('div');\n",
              "          docLink.innerHTML = docLinkHtml;\n",
              "          element.appendChild(docLink);\n",
              "        }\n",
              "      </script>\n",
              "    </div>\n",
              "  </div>\n",
              "  "
            ]
          },
          "metadata": {},
          "execution_count": 29
        }
      ]
    },
    {
      "cell_type": "code",
      "source": [
        "lw=dt['Low']\n",
        "plt.plot(lw.index, lw.values)\n",
        "plt.ylabel('Precio')\n",
        "plt.legend(['MSFT']);"
      ],
      "metadata": {
        "colab": {
          "base_uri": "https://localhost:8080/",
          "height": 265
        },
        "id": "r4606jwl58M5",
        "outputId": "33ff0276-bee9-4587-84f5-9f003a44b46a"
      },
      "execution_count": null,
      "outputs": [
        {
          "output_type": "display_data",
          "data": {
            "text/plain": [
              "<Figure size 432x288 with 1 Axes>"
            ],
            "image/png": "[encoded data removed]"
          },
          "metadata": {
            "needs_background": "light"
          }
        }
      ]
    },
    {
      "cell_type": "code",
      "source": [
        "h=lw.pct_change()[1:]\n",
        "\n"
      ],
      "metadata": {
        "id": "BIblauA36Yfr"
      },
      "execution_count": null,
      "outputs": []
    },
    {
      "cell_type": "code",
      "execution_count": null,
      "metadata": {
        "id": "B9MXHP_EEnEw",
        "colab": {
          "base_uri": "https://localhost:8080/",
          "height": 279
        },
        "outputId": "b2eccd2c-5d2a-43c2-9b4d-3313bd79db72"
      },
      "outputs": [
        {
          "output_type": "display_data",
          "data": {
            "text/plain": [
              "<Figure size 432x288 with 1 Axes>"
            ],
            "image/png": "[encoded data removed]"
          },
          "metadata": {
            "needs_background": "light"
          }
        }
      ],
      "source": [
        "plt.hist(h, bins=40)\n",
        "plt.xlabel('Ret')\n",
        "plt.ylabel('Freq')\n",
        "plt.legend(['MSFT']);"
      ]
    },
    {
      "cell_type": "code",
      "source": [
        "np.mean(h)\n"
      ],
      "metadata": {
        "colab": {
          "base_uri": "https://localhost:8080/"
        },
        "id": "t3PxQykv6_8L",
        "outputId": "c3df1b66-1f68-48c3-a5dc-bcd807209d55"
      },
      "execution_count": null,
      "outputs": [
        {
          "output_type": "execute_result",
          "data": {
            "text/plain": [
              "0.0018955498187422446"
            ]
          },
          "metadata": {},
          "execution_count": 37
        }
      ]
    },
    {
      "cell_type": "code",
      "source": [
        "np.std(h)"
      ],
      "metadata": {
        "colab": {
          "base_uri": "https://localhost:8080/"
        },
        "id": "qboe1krK7C-N",
        "outputId": "6c5c157c-a666-4dbf-8250-46628b79914a"
      },
      "execution_count": null,
      "outputs": [
        {
          "output_type": "execute_result",
          "data": {
            "text/plain": [
              "0.01191149738410044"
            ]
          },
          "metadata": {},
          "execution_count": 38
        }
      ]
    },
    {
      "cell_type": "code",
      "source": [
        "plt.hist(np.random.normal(np.mean(h), np.std(h), 1000), bins=50)\n",
        "plt.xlabel('Ret')\n",
        "plt.ylabel('Freq')\n",
        "plt.legend(['Distribución normal']);"
      ],
      "metadata": {
        "id": "kKfBf9Y27E2e",
        "colab": {
          "base_uri": "https://localhost:8080/",
          "height": 279
        },
        "outputId": "ebcdfb7d-be6b-4f72-8f36-586a47e3f953"
      },
      "execution_count": null,
      "outputs": [
        {
          "output_type": "display_data",
          "data": {
            "text/plain": [
              "<Figure size 432x288 with 1 Axes>"
            ],
            "image/png": "[encoded data removed]"
          },
          "metadata": {
            "needs_background": "light"
          }
        }
      ]
    },
    {
      "cell_type": "code",
      "source": [
        "J = lw.rolling(3).mean()\n",
        "plt.plot(lw.index, lw.values)\n",
        "plt.plot(J.index, J.values)\n",
        "plt.ylabel('Precio')\n",
        "plt.xlabel('Mes')"
      ],
      "metadata": {
        "colab": {
          "base_uri": "https://localhost:8080/",
          "height": 296
        },
        "id": "F0KQstMV8LSO",
        "outputId": "0b93aae5-78d0-4329-c6e5-06d54783fc07"
      },
      "execution_count": null,
      "outputs": [
        {
          "output_type": "execute_result",
          "data": {
            "text/plain": [
              "Text(0.5, 0, 'Mes')"
            ]
          },
          "metadata": {},
          "execution_count": 43
        },
        {
          "output_type": "display_data",
          "data": {
            "text/plain": [
              "<Figure size 432x288 with 1 Axes>"
            ],
            "image/png": "[encoded data removed]"
          },
          "metadata": {
            "needs_background": "light"
          }
        }
      ]
    },
    {
      "cell_type": "code",
      "source": [
        ""
      ],
      "metadata": {
        "id": "TbcAkRQj8qFi"
      },
      "execution_count": null,
      "outputs": []
    }
  ],
  "metadata": {
    "colab": {
      "collapsed_sections": [],
      "name": "shcalderonn_Lab1.ipynb",
      "provenance": [],
      "authorship_tag": "ABX9TyPA9w8Hx9mNgsiO0gfjU8+a",
      "include_colab_link": true
    },
    "kernelspec": {
      "display_name": "Python 3",
      "name": "python3"
    },
    "language_info": {
      "name": "python"
    }
  },
  "nbformat": 4,
  "nbformat_minor": 0
}